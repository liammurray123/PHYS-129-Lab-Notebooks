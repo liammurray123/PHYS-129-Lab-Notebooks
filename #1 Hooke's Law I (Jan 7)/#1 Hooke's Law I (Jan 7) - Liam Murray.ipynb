{
 "cells": [
  {
   "cell_type": "markdown",
   "metadata": {},
   "source": [
    "# Lab #? - LAB TITLE HERE (LAB DATE)\n",
    "\n",
    "**Student name:** Liam Murray \\\n",
    "**Student number:** 87357539 \\\n",
    "**Partner:** PARTNER NAME HERE"
   ]
  },
  {
   "cell_type": "code",
   "execution_count": 1,
   "metadata": {},
   "outputs": [],
   "source": [
    "# Set up Python environment for notebook\n",
    "import matplotlib.pyplot as plt\n",
    "import numpy as np\n",
    "\n",
    "%matplotlib inline"
   ]
  },
  {
   "cell_type": "markdown",
   "metadata": {},
   "source": [
    "## Section 1: Familiarize\n",
    "In this stage we get familiar with the equipment, the analysis procedure, and to get a clear big-picture view of the experiment. This will help the rest of the experiment go more smoothly and you will be able to make informed decisions."
   ]
  },
  {
   "cell_type": "markdown",
   "metadata": {},
   "source": [
    "### Familiarize: Question\n",
    "This is the start of your big-picture investigation. Some questions to ask ourselves are: \n",
    "- What is the goal of the experiment?\n",
    "- What do we need to show to answer the question?\n",
    "- What’s the final quantity or model that we need to achieve? \n",
    "\n",
    "\n",
    "**🌊 Write Away Here!**"
   ]
  },
  {
   "cell_type": "markdown",
   "metadata": {},
   "source": [
    "### Familiarize: Discover\n",
    "Here we get familiar with what we actually need to do. Map out how to get from what we can do with our equipment to the goal. Figure out where the uncertainties come from so we can reduce them as much as possible. In this process we will develop a brief measurement strategy to start our investigation. Some questions to ask ourselves are: \n",
    "- How does the equipment work? \n",
    "- What equations are related to the experimental goal? \n",
    "- Can we write our experimental goal in terms of variables that we can measure? \n",
    "- Which variables do we control? \n",
    "- What are our sources of uncertainty? \n",
    "- How do we assign a number of these sources of uncertainty? (quantify by asking what PDF is attributed to that uncertainty)\n",
    "\n",
    "Often drawing a diagram of the equipment can be useful in figuring out what’s important and how it relates to the calculations we need to do in order to attain our experiment goal. \n",
    "\n",
    "**🌊 Write Away Here!**"
   ]
  },
  {
   "cell_type": "markdown",
   "metadata": {},
   "source": [
    "## Section 2: Investigate\n",
    "This is the body of our experiment. We will iterate the following until we run out of time. At the end of each iteration we will try to make sense of our data in order to make an informed decision on how best to improve. "
   ]
  },
  {
   "cell_type": "markdown",
   "metadata": {},
   "source": [
    "#### Investigate: Measure and Analyze\n",
    "Here we collect the data and run our analysis. Thanks to our spreadsheets, we can often do the analysis in real time and make on-the-fly decisions on how to best proceed. We will be mindful when we set up our spreadsheet to accommodate additional data. Some questions to ask ourselves when writing in our lab books are: \n",
    "- What did we actually do? \n",
    "- Did anything unexpected go wrong? \n",
    "- What happened? \n",
    "- Any qualitative observations on either our data or analysis? \n",
    "- How did the trends in our plots change as a result? \n",
    "- How did our uncertainty change as a result?\n",
    "\n",
    "**🌊 Write Away Here!**\n"
   ]
  },
  {
   "cell_type": "code",
   "execution_count": 3,
   "metadata": {},
   "outputs": [
    {
     "ename": "FileNotFoundError",
     "evalue": "tempdata.csv not found.",
     "output_type": "error",
     "traceback": [
      "\u001b[0;31m---------------------------------------------------------------------------\u001b[0m",
      "\u001b[0;31mFileNotFoundError\u001b[0m                         Traceback (most recent call last)",
      "Cell \u001b[0;32mIn[3], line 3\u001b[0m\n\u001b[1;32m      1\u001b[0m \u001b[38;5;66;03m#Import and reading the CSV file data\u001b[39;00m\n\u001b[1;32m      2\u001b[0m datafile \u001b[38;5;241m=\u001b[39m \u001b[38;5;124m\"\u001b[39m\u001b[38;5;124mtempdata.csv\u001b[39m\u001b[38;5;124m\"\u001b[39m\n\u001b[0;32m----> 3\u001b[0m data \u001b[38;5;241m=\u001b[39m np\u001b[38;5;241m.\u001b[39mgenfromtxt(datafile, delimiter\u001b[38;5;241m=\u001b[39m\u001b[38;5;124m\"\u001b[39m\u001b[38;5;124m,\u001b[39m\u001b[38;5;124m\"\u001b[39m, dtype\u001b[38;5;241m=\u001b[39m\u001b[38;5;28mfloat\u001b[39m)\n\u001b[1;32m      5\u001b[0m \u001b[38;5;66;03m#Making Vectors from the data\u001b[39;00m\n\u001b[1;32m      6\u001b[0m x_var \u001b[38;5;241m=\u001b[39m data[:, \u001b[38;5;241m0\u001b[39m]  \u001b[38;5;66;03m# Make a vector of all elements (:) in the first column (0)\u001b[39;00m\n",
      "File \u001b[0;32m/opt/anaconda3/lib/python3.12/site-packages/numpy/lib/npyio.py:1980\u001b[0m, in \u001b[0;36mgenfromtxt\u001b[0;34m(fname, dtype, comments, delimiter, skip_header, skip_footer, converters, missing_values, filling_values, usecols, names, excludelist, deletechars, replace_space, autostrip, case_sensitive, defaultfmt, unpack, usemask, loose, invalid_raise, max_rows, encoding, ndmin, like)\u001b[0m\n\u001b[1;32m   1978\u001b[0m     fname \u001b[38;5;241m=\u001b[39m os_fspath(fname)\n\u001b[1;32m   1979\u001b[0m \u001b[38;5;28;01mif\u001b[39;00m \u001b[38;5;28misinstance\u001b[39m(fname, \u001b[38;5;28mstr\u001b[39m):\n\u001b[0;32m-> 1980\u001b[0m     fid \u001b[38;5;241m=\u001b[39m np\u001b[38;5;241m.\u001b[39mlib\u001b[38;5;241m.\u001b[39m_datasource\u001b[38;5;241m.\u001b[39mopen(fname, \u001b[38;5;124m'\u001b[39m\u001b[38;5;124mrt\u001b[39m\u001b[38;5;124m'\u001b[39m, encoding\u001b[38;5;241m=\u001b[39mencoding)\n\u001b[1;32m   1981\u001b[0m     fid_ctx \u001b[38;5;241m=\u001b[39m contextlib\u001b[38;5;241m.\u001b[39mclosing(fid)\n\u001b[1;32m   1982\u001b[0m \u001b[38;5;28;01melse\u001b[39;00m:\n",
      "File \u001b[0;32m/opt/anaconda3/lib/python3.12/site-packages/numpy/lib/_datasource.py:193\u001b[0m, in \u001b[0;36mopen\u001b[0;34m(path, mode, destpath, encoding, newline)\u001b[0m\n\u001b[1;32m    156\u001b[0m \u001b[38;5;250m\u001b[39m\u001b[38;5;124;03m\"\"\"\u001b[39;00m\n\u001b[1;32m    157\u001b[0m \u001b[38;5;124;03mOpen `path` with `mode` and return the file object.\u001b[39;00m\n\u001b[1;32m    158\u001b[0m \n\u001b[0;32m   (...)\u001b[0m\n\u001b[1;32m    189\u001b[0m \n\u001b[1;32m    190\u001b[0m \u001b[38;5;124;03m\"\"\"\u001b[39;00m\n\u001b[1;32m    192\u001b[0m ds \u001b[38;5;241m=\u001b[39m DataSource(destpath)\n\u001b[0;32m--> 193\u001b[0m \u001b[38;5;28;01mreturn\u001b[39;00m ds\u001b[38;5;241m.\u001b[39mopen(path, mode, encoding\u001b[38;5;241m=\u001b[39mencoding, newline\u001b[38;5;241m=\u001b[39mnewline)\n",
      "File \u001b[0;32m/opt/anaconda3/lib/python3.12/site-packages/numpy/lib/_datasource.py:533\u001b[0m, in \u001b[0;36mDataSource.open\u001b[0;34m(self, path, mode, encoding, newline)\u001b[0m\n\u001b[1;32m    530\u001b[0m     \u001b[38;5;28;01mreturn\u001b[39;00m _file_openers[ext](found, mode\u001b[38;5;241m=\u001b[39mmode,\n\u001b[1;32m    531\u001b[0m                               encoding\u001b[38;5;241m=\u001b[39mencoding, newline\u001b[38;5;241m=\u001b[39mnewline)\n\u001b[1;32m    532\u001b[0m \u001b[38;5;28;01melse\u001b[39;00m:\n\u001b[0;32m--> 533\u001b[0m     \u001b[38;5;28;01mraise\u001b[39;00m \u001b[38;5;167;01mFileNotFoundError\u001b[39;00m(\u001b[38;5;124mf\u001b[39m\u001b[38;5;124m\"\u001b[39m\u001b[38;5;132;01m{\u001b[39;00mpath\u001b[38;5;132;01m}\u001b[39;00m\u001b[38;5;124m not found.\u001b[39m\u001b[38;5;124m\"\u001b[39m)\n",
      "\u001b[0;31mFileNotFoundError\u001b[0m: tempdata.csv not found."
     ]
    }
   ],
   "source": [
    "#Import and reading the CSV file data\n",
    "datafile = \"tempdata.csv\"\n",
    "data = np.genfromtxt(datafile, delimiter=\",\", dtype=float)\n",
    "\n",
    "#Making Vectors from the data\n",
    "x_var = data[:, 0]  # Make a vector of all elements (:) in the first column (0)\n",
    "y_var = data[:, 1]  # Make a vector of all elements in the second column\n",
    "y_uncertainty = data[:, 2]  # Make a vector of all elements in the third column"
   ]
  },
  {
   "cell_type": "markdown",
   "metadata": {},
   "source": [
    "### Investigate: Compare and Summarize\n",
    "Once we have the data, completed the analysis and have a new result, we now need to think about what this means in the context of the goal. In doing so we should compare with our colleagues in order to get some context from the community. We will want to summarize the results in a sentence or two for later reference. Sometimes this step will lead to new questions and new investigations. Some questions to address while comparing and summarizing are: \n",
    "\n",
    "-Does our result make sense? \n",
    "-What does our result mean, physically?\n",
    "-Is our result of high quality? \n",
    "-What’s our answer to the research question? \n",
    "-Did we attain the experimental goal? \n",
    "-What is the evidence to support our answer? (Pretend there is skeptic you have to convince)\n",
    "-Are there any other interesting results that came out of our investigation? \n",
    "\n",
    "Remember to include units and uncertainties when reporting numerical values.\n",
    "\n",
    "**🌊 Write Away Here!**"
   ]
  },
  {
   "cell_type": "markdown",
   "metadata": {},
   "source": [
    "### Investigate: Plan to Improve\n",
    "If we have time, we will aim to do another round and improve our results. If not, then we should help those who come next by leaving some suggestions on how to make things better. We are the expert on our experiment, and we be most familiar on how to make it better. Try to keep things realistic, and attainable. Some things to think about when planning improvements: \n",
    "- How do we reduce our uncertainties? \n",
    "- How do we address any problems we’ve noted during our measurements stage? \n",
    "- Why will these improvements fix the problems or make things better? \n",
    "\n",
    "**If you run out of time then this is an excellent place to end your investigation.**\n",
    "\n",
    "**🌊 Write Away Here!**"
   ]
  },
  {
   "cell_type": "markdown",
   "metadata": {},
   "source": []
  }
 ],
 "metadata": {
  "kernelspec": {
   "display_name": "base",
   "language": "python",
   "name": "python3"
  },
  "language_info": {
   "codemirror_mode": {
    "name": "ipython",
    "version": 3
   },
   "file_extension": ".py",
   "mimetype": "text/x-python",
   "name": "python",
   "nbconvert_exporter": "python",
   "pygments_lexer": "ipython3",
   "version": "3.12.2"
  }
 },
 "nbformat": 4,
 "nbformat_minor": 2
}
