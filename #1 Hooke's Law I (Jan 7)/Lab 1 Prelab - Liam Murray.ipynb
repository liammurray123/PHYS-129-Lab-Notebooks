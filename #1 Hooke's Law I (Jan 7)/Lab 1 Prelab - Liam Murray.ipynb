{
 "cells": [
  {
   "cell_type": "markdown",
   "id": "26acb40b-9ce8-4197-abad-129c2d4775ab",
   "metadata": {},
   "source": [
    "# Phys. 129 Lab 1 Prelab Assignment (2023W2)\n",
    "\n",
    "**Spring Constant Uncertainty Propagation**"
   ]
  },
  {
   "cell_type": "markdown",
   "id": "985472a4-4803-464b-b89d-a23b827ed8ca",
   "metadata": {},
   "source": [
    "Name: Liam Murray\n",
    "\n",
    "Student Number: 87357539"
   ]
  },
  {
   "cell_type": "markdown",
   "id": "5f9d19f3-7b98-4f5c-8999-b11954b0c29d",
   "metadata": {},
   "source": [
    "In this prelab, we will review some of the uncertainty characterization and propagation ideas from the first term in order to help with some of the more challenging applications of those concepts in our first term 2 lab. But first, a brief introduction to what you will be doing in the lab."
   ]
  },
  {
   "cell_type": "markdown",
   "id": "4feb6155-0877-49e5-8b2d-775413ff147e",
   "metadata": {
    "tags": []
   },
   "source": [
    "In this three-week lab you are going to determine and compare the spring constant, k, of a spring using two different experimental approaches based on the Hooke’s Law model.\n",
    " \n",
    "The first uses the approach of measuring stretch as a function of applied force and the second uses the approach of measuring the oscillation period of a mass-on-a-spring system. In order to determine reliable uncertainties for the spring constant, we will use the formal method you experienced in Phys. 119, to determine the uncertainties in slopes and y-intercepts from linear graphs.\n",
    " \n",
    "**The physics for this lab:** Hooke's Law is a description of an ideal spring that says the stretch in the spring is linearly related to the force applied: **$|F|=k|x|$** where $k$ is called the spring constant. Based on this linear restoring force, the period (T) and resonant oscillation frequency ($f$) of a mass-on-a-spring system are given by\n",
    " **$T=\\frac{1}{f}=2\\pi \\sqrt{\\frac{M}{k}}$** where M is the mass being oscillated by the spring. We use M instead of m to reduce confusion between mass (M) and slope (m)."
   ]
  },
  {
   "cell_type": "markdown",
   "id": "de106c2c-9f4d-4ca6-90dc-000e58421fa5",
   "metadata": {},
   "source": [
    "Before answering the questions below, you may wish to review the **Overview of Uncertainty Propagation**  and the **Statistical Tools Review**  in the Phys 129 Canvas Course Resources module. Important note: Most questions in this worksheet ask you to explain why you can perform a certain step. The explanations do not need to be mathematically rigorous. What we want is a level of detail in your explanation that would allow a confused peer in the course to read it and understand the “why” part. For example, you might explain a step in an algebraic manipulation of a function as “the function looks like y=mx+b and we know how to fit a graph to this function.”"
   ]
  },
  {
   "cell_type": "markdown",
   "id": "d388c545-7cb0-4e8d-9fd5-4d401df315ba",
   "metadata": {},
   "source": [
    "Now, consider a situation where you have measured a position of x1 = 1.55 cm using a ruler with 0.1 cm divisions. You decide that if a large number of your peers repeated the same measurement, using your same procedure, you would expect almost all values to lie in the range of 1.50 cm - 1.60 cm.\n",
    "\n",
    "Q1. Explain, briefly, why you should report your uncertainty as u[x1] = 0.025 cm. "
   ]
  },
  {
   "cell_type": "markdown",
   "id": "f1159eb5-64a1-4492-a675-66b063c45dbe",
   "metadata": {},
   "source": [
    "The most influential uncertainty would be the individuals measurements of the positions as they must round to the nearest 0.1 cm division. Because we know measurements should fall between 1.5 to 1.6 cm, we can equate this to our 95% Confidence Interval.\n",
    "$$u[x1] = \\frac{x_{max} - x_{min}}{4}$$\n",
    "$$ u[x1] = \\frac{1.60 - 1.50 \\ \\text{cm}}{4} = 0.025 \\ \\text{cm}$$"
   ]
  },
  {
   "cell_type": "markdown",
   "id": "6c3989d0-aba8-4529-8dde-f98fbe965c05",
   "metadata": {},
   "source": [
    "Next consider a second measured position, x2 = 2.70 cm, with the same uncertainty as the previous question. You need to find the difference between these two positions (x1) in order to calculate a distance. \n",
    "\n",
    "Q2. Explain, briefly, why you should report the uncertainty as u[x1] = 0.035 cm."
   ]
  },
  {
   "cell_type": "markdown",
   "id": "903a49a6-8d0e-412e-b018-e03defd6ba53",
   "metadata": {},
   "source": [
    "First we can calculate the distance by subtracting our initial from final position.\n",
    "$$\\Delta x = 2.70 - 1.55 \\ \\text{cm} = 1.15 \\ \\text{cm}$$\n",
    "\n",
    "Now we can calcuate the uncertainty by \"adding the uncertainties in quadrature\".\n",
    "$$ u^2[\\Delta x] = u^2[x1] + u^2[x2] $$\n",
    "$$ u[\\Delta x] = \\sqrt{u^2[x1] + u^2[x2]} $$\n",
    "$$ u[\\Delta x] = \\sqrt{0.025^2 + 0.025^2} $$\n",
    "$$ u[\\Delta x] = 0.03535534 \\ \\text{cm}    $$\n",
    "\n",
    "To report uncertainty, we use 2 significant figures and then match the number of decimals for the measurement. This would result in:\n",
    "$$u[\\Delta x] = 0.035 \\ \\text{cm}$$"
   ]
  },
  {
   "cell_type": "markdown",
   "id": "7876def5-4a19-46cb-84e6-a6cafcacf6d3",
   "metadata": {
    "tags": []
   },
   "source": [
    "Q3. Explain, briefly, why it would not be correct to report this uncertainty as u[Δx] = 0.04 cm or u[Δx] = 0.0354 cm."
   ]
  },
  {
   "cell_type": "markdown",
   "id": "0db44601-5e67-4f24-ae0d-9ab1900f97bf",
   "metadata": {},
   "source": [
    "Both the provided answers fail to meet 2 significant figures."
   ]
  },
  {
   "cell_type": "markdown",
   "id": "5bd17cc9-6e15-4cae-94d0-bb9b1a29f70a",
   "metadata": {},
   "source": [
    "Now,consider what happens when you attach a mass to your spring, displace it from the equilibrium position, and then release it in order to allow it to oscillate up and down. You will measure the period of the oscillation using techniques similar to those from the Pendulum Phys. 119 lab. In this part of the experiment your independent variable is mass (M) and your dependent variable is the period (T). When performing the oscillation experiment we want you to vary the masses used so that you can create a graph where the slope can be used to find the spring constant k. We will look at how to do this a bit later, but for some review of uncertainty propagation, let's first look at finding the spring constant directly for a fixed mass.\n",
    "\n",
    "For a fixed mass, we want to derive u[k], but first need to develop an expression for k. \n",
    "\n",
    "Q4. Show the 2-3 intermediate steps to get from $T=2\\pi \\sqrt{\\frac{M}{k}}$ to $k=\\frac{4\\pi^2 M}{T^2}$:"
   ]
  },
  {
   "cell_type": "markdown",
   "id": "73ad7629-c5c8-4700-9d1b-9363d5951820",
   "metadata": {},
   "source": [
    "Step 1: Rearrange and square $$\\frac{T^2}{4 \\pi^2} = \\frac{M}{k}$$\n",
    "Step 2: Invert and cross multiply $$\\frac{4 \\pi^2 M}{T^2} = k$$"
   ]
  },
  {
   "cell_type": "markdown",
   "id": "ea168fa5-d388-4de8-b1d9-0d2455c560af",
   "metadata": {},
   "source": [
    "After applying the uncertainty propagation rules, we find that we can write the uncertainty in the spring constant as \n",
    "$u[k]=k\\sqrt{(\\frac{u[M]}{M})^2+4(\\frac{u[T]}{T})^2}$.\n",
    "\n",
    "Q5. Show the main steps to derive the expression for u[k]."
   ]
  },
  {
   "cell_type": "markdown",
   "id": "7776cd00-5b6c-490e-b736-475f5bfa1d9d",
   "metadata": {},
   "source": [
    "The general form for the propagation of a function with idependant variables is:\n",
    "$$u[k(M,T)]^2 = u^2[M](\\frac{\\partial k}{\\partial M})^2 + u[T]^2(\\frac{\\partial k}{\\partial T})^2$$\n",
    "\n",
    "We can rearrange this as:\n",
    "$$u[k(M,T)] = \\sqrt{(u[M] \\cdot \\frac{\\partial k}{\\partial M})^2 + (u[T] \\cdot \\frac{\\partial k}{\\partial T})^2}$$\n",
    "\n",
    "We can then calculate the individual partial derivaties and substitute them it:\n",
    "$$\\frac{\\partial k}{\\partial M} = \\frac{4 \\pi^2}{T^2}$$\n",
    "$$\\frac{\\partial k}{\\partial T} = \\frac{-8\\pi^2M}{T^3}$$\n",
    "\n",
    "Plug the derivatives into the propagation formula.\n",
    "$$u[k(M,T)] = \\sqrt{(u[M] \\cdot \\frac{4 \\pi^2}{T^2})^2 + (u[T] \\cdot \\frac{-8\\pi^2M}{T^3})^2}$$\n",
    "\n",
    "Factor out $\\frac{4 \\pi^2}{T^2}$.\n",
    "$$u[k(M,T)] = \\frac{4 \\pi^2}{T^2} \\sqrt{u[M]^2 + (u[T] \\cdot \\frac{-2M}{T})^2}$$\n",
    "\n",
    "Substitute $k$ and divide by $M$.\n",
    "$$u[k] = k \\sqrt{(\\frac{u[M]}{M})^2 + 4(\\frac{u[T]}{T})^2}$$"
   ]
  },
  {
   "cell_type": "markdown",
   "id": "56d0dce4-b531-4da0-a834-1cf5bd19937d",
   "metadata": {
    "tags": []
   },
   "source": [
    "Now let’s look at a method to graph quantities so we can use the slope to determine k. \n",
    "If we square $T=2\\pi \\sqrt{\\frac{M}{k}}$ we discover that we should expect a $T^2$ (y-axis) vs M (x-axis) graph to have a  linear form  (i.e. y=mx +b):\n",
    "    $T^2=\\frac{4\\pi^2}{k} M +0$.\n",
    "    \n",
    "Q6. The slope $m = 4π^2/k$ will have units of $s^2/kg$  in SI units. How did we determine that these are the units? "
   ]
  },
  {
   "cell_type": "markdown",
   "id": "bdcc4669-0810-48fe-a514-a77285705132",
   "metadata": {},
   "source": [
    "We know that $k = \\frac{4 \\pi^2 M}{T^2}$, which we can substitute in and write its units.\n",
    "$$m = \\frac{2 \\pi^2}{\\frac{4 \\pi^2 M}{T^2}} \\ \\left [ \\frac{1}{\\frac{kg}{s^2}} \\right ]$$\n",
    "Rewrite and simplify.\n",
    "$$m = \\frac{T^2}{2M} \\ \\left [\\frac{s^2}{kg} \\right ]$$"
   ]
  },
  {
   "cell_type": "markdown",
   "id": "da7ee86a-9a87-4dc8-973b-357d1996afd5",
   "metadata": {},
   "source": [
    "Q7. We could also write these units as m/N (meters/Newton). How did we determine that these are also the units? "
   ]
  },
  {
   "cell_type": "markdown",
   "id": "da1425b8-dc2a-407f-aa37-c2049e812448",
   "metadata": {},
   "source": [
    "1 Newton ($N$) = $\\frac{kg \\cdot m}{s^2}$\n",
    "We can set it equal to $\\frac{s^2}{kg}$ and multiply both the numerator and denominator by $m$.\n",
    "$$\\frac{s^2}{kg} = \\frac{s^2 \\cdot m}{kg \\cdot m}$$\n",
    "Then  we can substitute $\\frac{1}{N} = \\frac{s^2}{kg \\cdot m}$\n",
    "$$\\frac{s^2}{kg} = \\frac{m}{N}$$"
   ]
  },
  {
   "cell_type": "markdown",
   "id": "bff24145-9626-4023-84c2-2cfe3c665fb2",
   "metadata": {},
   "source": [
    "Based on this relationship between the slope (m) and spring constant (k), we can write the uncertainty in the spring constant as  $u[k]=4\\pi^2\\frac{u[m]}{m^2}$.\n",
    "\n",
    "Q8. Show the main steps to derive the expression for u[k].\n"
   ]
  },
  {
   "cell_type": "markdown",
   "id": "f278ba02-249e-4ebd-abd7-f3ce5f9952cc",
   "metadata": {},
   "source": [
    "We can rearrange the equation for slope to isolate $k$.\n",
    "$$m = \\frac{4π^2}{k}$$\n",
    "$$k=\\frac{4 \\pi^2}{m}$$\n",
    "Then we can calculate uncertainty using the simplified general equation below.\n",
    "$$u[k]^2 = \\left ( u[m] \\cdot \\frac{\\partial k}{\\partial m} \\right )^2$$\n",
    "Then we can calculate the partial derivative, and substitute it into the equation.\n",
    "$$\\frac{\\partial k}{\\partial m} = \\frac{-4 \\pi^2}{m^2}$$\n",
    "$$u[k]^2 = \\left ( u[m] \\cdot \\frac{-4 \\pi^2}{m^2} \\right )^2$$\n",
    "We can now simplify the equation (the negative is removed due to the power of 2).\n",
    "$$u[k] = 4 \\pi^2 \\frac{u[m]}{m^2}$$"
   ]
  },
  {
   "cell_type": "markdown",
   "id": "717d838f-04cb-445f-8433-cd8524003f3f",
   "metadata": {},
   "source": [
    "In Phys. 119, you were introduced to a formal analytic method for finding the slope and intercept (and their uncertainties) which minimize the Chi-sq for your data fit to a linear model.  Familiarize yourself with this method by reading the document \"Linear Fit using the Method of Least Squares\" in the Lab 1 Canvas module.  To get a head start for Lab 1, review the analysis technique you applied in the Radiation Shielding lab in Phys. 119."
   ]
  },
  {
   "cell_type": "markdown",
   "id": "8fb16644-2d8f-4850-9a42-0c7e83106b0c",
   "metadata": {},
   "source": [
    "Done ✅"
   ]
  }
 ],
 "metadata": {
  "kernelspec": {
   "display_name": "Python 3 (ipykernel)",
   "language": "python",
   "name": "python3"
  },
  "language_info": {
   "codemirror_mode": {
    "name": "ipython",
    "version": 3
   },
   "file_extension": ".py",
   "mimetype": "text/x-python",
   "name": "python",
   "nbconvert_exporter": "python",
   "pygments_lexer": "ipython3",
   "version": "3.10.8"
  },
  "widgets": {
   "application/vnd.jupyter.widget-state+json": {
    "state": {},
    "version_major": 2,
    "version_minor": 0
   }
  }
 },
 "nbformat": 4,
 "nbformat_minor": 5
}
