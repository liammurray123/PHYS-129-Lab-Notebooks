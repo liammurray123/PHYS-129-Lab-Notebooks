{
 "cells": [
  {
   "cell_type": "code",
   "execution_count": 1,
   "metadata": {},
   "outputs": [
    {
     "name": "stdout",
     "output_type": "stream",
     "text": [
      "T' =  2.144791749351122\n"
     ]
    }
   ],
   "source": [
    "import numpy as np\n",
    "# Use this cell for your quantitative comparison between your periods at 10° and 20°\n",
    "A = 5.632213477010396\n",
    "B = 5.391639344256999\n",
    "dA = 0.11147769185641461\n",
    "dB = 0.012413075526809298\n",
    "tprime = (np.abs(A - B))/(np.sqrt((dA)**2 + (dB)**2))\n",
    "\n",
    "print(\"T' = \", tprime)"
   ]
  },
  {
   "cell_type": "code",
   "execution_count": null,
   "metadata": {},
   "outputs": [],
   "source": []
  }
 ],
 "metadata": {
  "kernelspec": {
   "display_name": "base",
   "language": "python",
   "name": "python3"
  },
  "language_info": {
   "codemirror_mode": {
    "name": "ipython",
    "version": 3
   },
   "file_extension": ".py",
   "mimetype": "text/x-python",
   "name": "python",
   "nbconvert_exporter": "python",
   "pygments_lexer": "ipython3",
   "version": "3.12.2"
  }
 },
 "nbformat": 4,
 "nbformat_minor": 2
}
