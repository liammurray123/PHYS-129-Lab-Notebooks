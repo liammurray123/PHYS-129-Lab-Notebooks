{
 "cells": [
  {
   "cell_type": "markdown",
   "metadata": {},
   "source": [
    "# Lab #4 - Index of Refraction (Jan 28)\n",
    "\n",
    "**Student name:** Liam Murray \\\n",
    "**Student number:** 87357539 \\\n",
    "**Partner:** Aaliyah Verhoef"
   ]
  },
  {
   "cell_type": "code",
   "execution_count": 59,
   "metadata": {},
   "outputs": [],
   "source": [
    "# Set up Python environment for notebook\n",
    "import numpy as np\n",
    "from numpy.polynomial import Polynomial\n",
    "import matplotlib.pyplot as plt\n",
    "%matplotlib inline\n",
    "np.set_printoptions(precision=3,suppress=True)\n",
    "from scipy.optimize import curve_fit\n"
   ]
  },
  {
   "cell_type": "markdown",
   "metadata": {},
   "source": [
    "## Section 1: Familiarize\n",
    "In this stage we get familiar with the equipment, the analysis procedure, and to get a clear big-picture view of the experiment. This will help the rest of the experiment go more smoothly and you will be able to make informed decisions.\n",
    "\n",
    "### Experimental Goal 🎯:\n",
    ">Deduce the Index of Refraction ($n$) of a piece of plexiglass through three methods of measurement."
   ]
  },
  {
   "cell_type": "markdown",
   "metadata": {},
   "source": [
    "### Familiarize: Question\n",
    "This is the start of your big-picture investigation. Some questions to ask ourselves are: \n",
    "- What is the goal of the experiment?\n",
    "- What do we need to show to answer the question?\n",
    "- What’s the final quantity or model that we need to achieve? "
   ]
  },
  {
   "cell_type": "markdown",
   "metadata": {},
   "source": [
    "Snell's Law dictates that the relatioship between an incident and refracted ray can be written as:\n",
    "$$n_1 \\sin(\\theta_1) = n_2 \\sin(\\theta_2)$$\n",
    "and it can be simplified as:\n",
    "$$(1) \\sin(\\theta_{incidence}) = n \\sin(\\theta_{refraction}) $$\n",
    "and thus we can solve \n",
    "$$ n = \\frac{\\sin(\\theta_{incidence})}{\\sin(\\theta_{refraction})} $$\n",
    "\n",
    "Other important equations:\n",
    "$$\n",
    "\\sin(\\theta_{critical}) = \\frac{1}{n} \\\\\n",
    "\\tan(\\theta_{Brewster}) = n\n",
    "$$"
   ]
  },
  {
   "cell_type": "markdown",
   "metadata": {},
   "source": [
    "### Familiarize: Discover\n",
    "Here we get familiar with what we actually need to do. Map out how to get from what we can do with our equipment to the goal. Figure out where the uncertainties come from so we can reduce them as much as possible. In this process we will develop a brief measurement strategy to start our investigation. Some questions to ask ourselves are: \n",
    "- How does the equipment work? \n",
    "- What equations are related to the experimental goal? \n",
    "- Can we write our experimental goal in terms of variables that we can measure? \n",
    "- Which variables do we control? \n",
    "- What are our sources of uncertainty? \n",
    "- How do we assign a number of these sources of uncertainty? (quantify by asking what PDF is attributed to that uncertainty)\n",
    "\n",
    "Often drawing a diagram of the equipment can be useful in figuring out what’s important and how it relates to the calculations we need to do in order to attain our experiment goal. "
   ]
  },
  {
   "cell_type": "markdown",
   "metadata": {},
   "source": [
    "<h3><font color=\"005477\">Method 1: Ratio of incidence and refraction</font></h3>\n",
    "\n",
    "**Measurement Plan**\n",
    "1. Using a range on angles from $10$ to $40 \\degree$ in increasing 10 degree increments, recording the angle of Incidence and Refraction.\n",
    "    - The undertainty in this measurement will be the mean value calculated from the standard deviation across the data set.\n",
    "\n",
    "<h3><font color=\"005477\">Method 2: Critical Angle</font></h3>\n",
    "\n",
    "**Measurement Plan**\n",
    "1. Adjust angle until there is no refraction, we will record this value as $\\theta_{critical}$.\n",
    "    - The undertainty in this measurement would be a Gaussian Probability Distribution Function as we are are anticipating a span of $\\pm 1 \\degree$ within measurements.\n",
    "\n",
    "<h3><font color=\"005477\">Method 3: Brewster's Angle</font></h3>\n",
    "\n",
    "**Measurement Plan**\n",
    "1. Using a polarizing lens search for the angle that maximizes the polarization from the refracted ray, this is $\\theta_{Brewster}$.\n",
    "    - The undertainty in this measurement would be a Gaussian Probability Distribution Function as we are are anticipating a span on $\\pm 1 \\degree$ within measurements."
   ]
  },
  {
   "cell_type": "markdown",
   "metadata": {},
   "source": [
    "## Section 2: Investigate\n",
    "This is the body of our experiment. We will iterate the following until we run out of time. At the end of each iteration we will try to make sense of our data in order to make an informed decision on how best to improve. "
   ]
  },
  {
   "cell_type": "markdown",
   "metadata": {
    "vscode": {
     "languageId": "plaintext"
    }
   },
   "source": [
    "#### Investigate: Measure and Analyze\n",
    "Here we collect the data and run our analysis. Thanks to our spreadsheets, we can often do the analysis in real time and make on-the-fly decisions on how to best proceed. We will be mindful when we set up our spreadsheet to accommodate additional data. Some questions to ask ourselves when writing in our lab books are: \n",
    "- What did we actually do? \n",
    "- Did anything unexpected go wrong? \n",
    "- What happened? \n",
    "- Any qualitative observations on either our data or analysis? \n",
    "- How did the trends in our plots change as a result? \n",
    "- How did our uncertainty change as a result?"
   ]
  },
  {
   "cell_type": "markdown",
   "metadata": {},
   "source": [
    "<h3><font color=\"005477\">Method 1: Ratio of incidence and refraction</font></h3>"
   ]
  },
  {
   "cell_type": "code",
   "execution_count": 60,
   "metadata": {},
   "outputs": [],
   "source": [
    "#Import and reading the CSV file data\n",
    "datafile = \"Method 1 Data.csv\"\n",
    "data = np.genfromtxt(datafile, delimiter=\",\", dtype=float)\n",
    "\n",
    "#Making Vectors from the data\n",
    "itheta = data[:, 0]  # Make a vector of all elements (:) in the first column (0)\n",
    "rtheta = data[:, 1]  # Make a vector of all elements in the second column\n",
    "# dtheta = data[:, 2]\n",
    "# y_uncertainty = data[:, 2]  # Make a vector of all elements in the third column"
   ]
  },
  {
   "cell_type": "code",
   "execution_count": 67,
   "metadata": {},
   "outputs": [
    {
     "name": "stdout",
     "output_type": "stream",
     "text": [
      "n = 1.5277782571715044\n",
      "u[n] = 0.007117540972302711\n",
      "rel = 0.004658752629115152\n",
      "0.00021539704319873085\n"
     ]
    },
    {
     "data": {
      "text/plain": [
       "Text(0.5, 1.0, \"Exploration of Snell's Law [Experiment 1]\")"
      ]
     },
     "execution_count": 67,
     "metadata": {},
     "output_type": "execute_result"
    }
   ],
   "source": [
    "# Creating variables for x and y data\n",
    "x_var = np.sin(np.radians(rtheta))\n",
    "y_var= np.sin(np.radians(itheta))\n",
    "\n",
    "print(\"n =\", np.mean(y_var/x_var))\n",
    "print(\"u[n] =\", np.mean(np.std(y_var/x_var)))\n",
    "print(\"rel =\", np.mean(np.std(y_var/x_var))/np.mean(y_var/x_var) )\n",
    "y_uncertainty = np.sqrt((np.radians(2)/4*(np.pi/180))**2 + (np.radians(2)/4*(np.pi/180))**2)\n",
    "\n",
    "print(y_uncertainty)\n",
    "# Preparing the Plots\n",
    "x_label = \"Angle of Refraction [rad]\"\n",
    "y_label = \"Angle of Incidence [rad]\"\n",
    "title = \"Exploration of Snell's Law [Experiment 1]\"\n",
    "xmin = np.min(x_var)\n",
    "xmax = np.max(x_var)\n",
    "ymin = np.min(y_var)\n",
    "ymax = np.max(y_var)\n",
    "\n",
    "\n",
    "plt.errorbar(x_var, y_var, yerr=y_uncertainty, fmt=\"o\", ms=5, color=\"#036240\", alpha=0.75)\n",
    "\n",
    "# plt.gcf().set_size_inches(15, 10)  # This sets the size of the plot\n",
    "plt.grid(True)  # This toggles whether gridlines are displayed\n",
    "plt.xlabel(x_label, fontsize=16)  # x-axis label\n",
    "plt.ylabel(y_label, fontsize=16)  # y-axis label\n",
    "plt.title(title, fontsize=25)  # Plot title\n",
    "\n",
    "# print(y_var, x_var)"
   ]
  },
  {
   "cell_type": "code",
   "execution_count": 62,
   "metadata": {},
   "outputs": [
    {
     "data": {
      "image/png": "[encoded data removed]",
      "text/plain": [
       "<Figure size 1500x1000 with 1 Axes>"
      ]
     },
     "metadata": {},
     "output_type": "display_data"
    }
   ],
   "source": [
    "# Plot our data\n",
    "plt.errorbar(x_var, y_var, yerr=y_uncertainty, fmt=\"o\", ms=5, color=\"#036240\", alpha=0.75)\n",
    "\n",
    "# Add grid lines, titles, and axis labels.\n",
    "plt.gcf().set_size_inches(15, 10)  # This sets the size of the plot\n",
    "plt.grid(True)  # This toggles whether gridlines are displayed\n",
    "plt.xlabel(x_label, fontsize=16)  # x-axis label\n",
    "plt.ylabel(y_label, fontsize=16)  # y-axis label\n",
    "plt.title(title, fontsize=25)  # Plot title\n",
    "\n",
    "# To manually change the axis limits, uncomment (remove the # at the start) these lines:\n",
    "#plt.ylim(ymin, ymax)  # This sets the range of the y-axis\n",
    "#plt.xlim(xmin, xmax)  # This sets the range of the x-axis\n",
    "\n",
    "q = Polynomial.fit(x_var, y_var, 1)\n",
    "plt.plot(*q.linspace(), color=\"#036240\", alpha=1, label=\"Line of best fit\")\n",
    "# Add a legend\n",
    "plt.legend()\n",
    "\n",
    "plt.show()\n",
    "\n",
    "# To save the plot as a .png, uncomment this:\n",
    "#plt.savefig(\"plot_fit\", bbox_inches=\"tight\", dpi=300)  # Saves the figure"
   ]
  },
  {
   "cell_type": "markdown",
   "metadata": {},
   "source": [
    "<h3><font color=\"005477\">Method 2: Critical Angle</font></h3>"
   ]
  },
  {
   "cell_type": "code",
   "execution_count": 63,
   "metadata": {},
   "outputs": [
    {
     "name": "stdout",
     "output_type": "stream",
     "text": [
      "1.466279185639625 +/- -0.013721708057758278\n",
      "-0.009358182392647517\n"
     ]
    }
   ],
   "source": [
    "theta = 43\n",
    "dtheta = np.radians(2)/4\n",
    "\n",
    "n = 1/np.sin(np.radians(theta))\n",
    "dn = -(1/np.sin(np.radians(theta)))*(1/np.tan(np.radians(theta)))*dtheta\n",
    "print(n, \"+/-\", dn)\n",
    "\n",
    "print(dn/n)"
   ]
  },
  {
   "cell_type": "markdown",
   "metadata": {},
   "source": [
    "<h3><font color=\"005477\">Method 3: Brewster's Angle</font></h3>"
   ]
  },
  {
   "cell_type": "code",
   "execution_count": 64,
   "metadata": {},
   "outputs": [
    {
     "name": "stdout",
     "output_type": "stream",
     "text": [
      "1.539864963814583 +/- 0.029419131177139717\n",
      "0.019105007171708148\n"
     ]
    }
   ],
   "source": [
    "theta = 57\n",
    "dtheta = np.radians(2)/4\n",
    "n = np.tan(np.radians(theta))\n",
    "dn = 1/(np.cos(np.radians(theta))**2) * dtheta\n",
    "print(n, \"+/-\", dn)\n",
    "print(dn/n)"
   ]
  },
  {
   "cell_type": "code",
   "execution_count": 65,
   "metadata": {},
   "outputs": [
    {
     "name": "stdout",
     "output_type": "stream",
     "text": [
      "the t-score comparing Snell's law and critical angle method= 3.9785048623239314\n",
      "the t-score comparing Snell's law and Brewster's law method= 0.3993244959328319\n",
      "the t-score comparing Brewster's law and critical angle method= 2.2668399513201627\n",
      "Mean n= 1.5113074688752375\n",
      "Mean u[n]= 0.016752793402400237\n"
     ]
    }
   ],
   "source": [
    "#calculating the t-scores\n",
    "\n",
    "#Snell's law vs. critical angle\n",
    "A=1.5277782571715044\n",
    "B=1.466279185639625\n",
    "dA=0.007117540972302711\n",
    "dB=0.013721708057758278\n",
    "t_scoreSvC = np.abs(A - B) / np.sqrt(dA**2 + dB**2)\n",
    "\n",
    "#Snell's law vs. Brewster's law\n",
    "C=1.539864963814583\n",
    "dC=0.029419131177139717\n",
    "t_scoreSvB = np.abs(C - A) / np.sqrt(dA**2 + dC**2)\n",
    "\n",
    "#Brewster's law vs. critical angle\n",
    "t_scoreBvC = np.abs(C - B) / np.sqrt(dB**2 + dC**2)\n",
    "\n",
    "print(\"the t-score comparing Snell's law and critical angle method=\",t_scoreSvC)\n",
    "print(\"the t-score comparing Snell's law and Brewster's law method=\",t_scoreSvB)\n",
    "print(\"the t-score comparing Brewster's law and critical angle method=\",t_scoreBvC)\n",
    "\n",
    "print(\"Mean n=\", np.mean([1.5277782571715044, 1.466279185639625, 1.539864963814583]))\n",
    "print(\"Mean u[n]=\", np.mean([0.007117540972302711,0.013721708057758278,0.029419131177139717]))"
   ]
  },
  {
   "cell_type": "code",
   "execution_count": 70,
   "metadata": {},
   "outputs": [
    {
     "name": "stdout",
     "output_type": "stream",
     "text": [
      "Us vs Mia= 2.5301880522833455\n",
      "Us vs Niloo= 6.473735783750307\n",
      "the t-score comparing Brewster's law and critical angle method= 6.115769580320425\n"
     ]
    }
   ],
   "source": [
    "#calculating the t-scores\n",
    "\n",
    "#Snell's law vs. critical angle\n",
    "A=np.mean([1.510,1.414,1.483])\n",
    "B=np.mean([1.5278,1.466,1.540])\n",
    "dA=np.mean([0.041,0.025,0.056])/100\n",
    "dB=np.mean([0.0071,0.014,0.029])\n",
    "t_scoreSvC = np.abs(A - B) / np.sqrt(dA**2 + dB**2)\n",
    "\n",
    "#Snell's law vs. Brewster's law\n",
    "C=np.mean([1.4734,1.402,1.257])\n",
    "dC=np.mean([0.0074,0.012,0.023])\n",
    "t_scoreSvB = np.abs(C - A) / np.sqrt(dA**2 + dC**2)\n",
    "\n",
    "#Brewster's law vs. critical angle\n",
    "t_scoreBvC = np.abs(C - B) / np.sqrt(dB**2 + dC**2)\n",
    "\n",
    "print(\"Us vs Mia=\",t_scoreSvC)\n",
    "print(\"Us vs Niloo=\",t_scoreSvB)\n",
    "print(\"the t-score comparing Brewster's law and critical angle method=\",t_scoreBvC)"
   ]
  },
  {
   "cell_type": "markdown",
   "metadata": {},
   "source": [
    "### Investigate: Compare and Summarize\n",
    "Once we have the data, completed the analysis and have a new result, we now need to think about what this means in the context of the goal. In doing so we should compare with our colleagues in order to get some context from the community. We will want to summarize the results in a sentence or two for later reference. Sometimes this step will lead to new questions and new investigations. Some questions to address while comparing and summarizing are: \n",
    "\n",
    "- Does our result make sense? \n",
    "- What does our result mean, physically?\n",
    "- Is our result of high quality? \n",
    "- What’s our answer to the research question? \n",
    "- Did we attain the experimental goal? \n",
    "- What is the evidence to support our answer? (Pretend there is skeptic you have to convince)\n",
    "- Are there any other interesting results that came out of our investigation? \n",
    "\n",
    "Remember to include units and uncertainties when reporting numerical values."
   ]
  },
  {
   "cell_type": "markdown",
   "metadata": {},
   "source": [
    "In summary, our close values for Method 1 and 3 are supported by a T score of 0.40, which indicated a low degree of difference. This leads up to report a mean $n$ value of $ \\approx 1.51$ as a mean of our data calculated. This is in line with other groups as noted below, and with Google results as suggested by a TA.\n",
    "\n",
    "Our relative uncertainties all lie below 2%, which strengthens our results as well as all calculated $\\chi^2$ below 4. Our data is most similar to Mia and Alexis's, as they had values of $n \\approx 1.5$, with Niloo and Amrita having slightly lower numbers. Across all groups Method 1 (Snell's law) was the most reliable for finding $n$, which was reflected by peoples sentiments about its ease of use and reliability. Other groups used gaussian distributions for their uncertainties with different 95% Confidence Intervals\n",
    "\n",
    "We believe that Snell's law best allowed us to determine $n$, as we could use a large sample size to analyze data and come to a value. It was also the method with the lowest amount of uncertainty.\n",
    "\n",
    "**Comparisons with other groups**\n",
    "When taking the T-score of the averages $n$ values, we had a score of 2.53 which symbolizes a high level of similarity between our data and Mia and Alexis', this is different from the 6.47 score when comparing Niloo and Amrita's data and ours.\n",
    "\n",
    "|**Our Data**                                | Method 1: Snell's Law | Method 2 (Round 1):  <br>  Total Internal Reflection | Method 2 (Round 2) | Method 3: Brewster's Angle |\n",
    "|-----------------------------------------|-----------------------|--------------------------------------------------|--------------------|----------------------------|\n",
    "| Index of Refraction ($n$)               | $1.52778 \\pm 0.00022$ | $1.3054 \\pm 0.0096$                              | $1.466 \\pm 0.014$  | $1.540 \\pm 0.029$          |\n",
    "| Relative Uncertainty ($\\frac{u[n]}{n}$) | $0.014 \\%$            | $0.79 \\%$                                        | $0.94 \\%$          | $1.91 \\%$                  |\n",
    "\n",
    "<br>\n",
    "\n",
    "|**Mia and Alexis**       | Method 1          | Method 2          | Method 3          |\n",
    "|-------------------------|-------------------|-------------------|-------------------|\n",
    "| Index of Refraction $n$ | $1.510 \\pm 0.041$ | $1.414 \\pm 0.025$ | $1.483 \\pm 0.056$ |\n",
    "| Relative uncertainty    | $2.7  \\% $        | $1.2 \\%$          | $3.8 \\%$          |\n",
    "\n",
    "<br>\n",
    "\n",
    "|**Amrita and Niloo**     | Method 1            | Method 2          | Method 3          |\n",
    "|-------------------------|---------------------|-------------------|-------------------|\n",
    "| Index of Refraction $n$ | $1.4734 \\pm 0.0074$ | $1.402 \\pm 0.012$ | %1.257 \\pm 0.023% |\n",
    "| Relative uncertainty    | $0.5  \\% $          | $0.086 \\%$        | $1.8 \\%$          |\n",
    "\n",
    "\n",
    "\n"
   ]
  },
  {
   "cell_type": "markdown",
   "metadata": {},
   "source": [
    "### Investigate: Plan to Improve\n",
    "If we have time, we will aim to do another round and improve our results. If not, then we should help those who come next by leaving some suggestions on how to make things better. We are the expert on our experiment, and we be most familiar on how to make it better. Try to keep things realistic, and attainable. Some things to think about when planning improvements: \n",
    "- How do we reduce our uncertainties? \n",
    "- How do we address any problems we’ve noted during our measurements stage? \n",
    "- Why will these improvements fix the problems or make things better? \n",
    "\n",
    "**If you run out of time then this is an excellent place to end your investigation.**"
   ]
  },
  {
   "cell_type": "markdown",
   "metadata": {},
   "source": [
    "**To improve our results, we would plan to:**\n",
    "- Complete more rounds of data collection, to create a better range of data with lower uncertainties.\n",
    "- Use a more perfect point source to have the best confidence in our measurements, as the laser had some scattering which resulted in difficulty finding the angle of total internal reflection."
   ]
  },
  {
   "cell_type": "markdown",
   "metadata": {},
   "source": []
  }
 ],
 "metadata": {
  "kernelspec": {
   "display_name": "base",
   "language": "python",
   "name": "python3"
  },
  "language_info": {
   "codemirror_mode": {
    "name": "ipython",
    "version": 3
   },
   "file_extension": ".py",
   "mimetype": "text/x-python",
   "name": "python",
   "nbconvert_exporter": "python",
   "pygments_lexer": "ipython3",
   "version": "3.12.2"
  }
 },
 "nbformat": 4,
 "nbformat_minor": 2
}
