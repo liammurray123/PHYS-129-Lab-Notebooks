{
 "cells": [
  {
   "cell_type": "markdown",
   "metadata": {},
   "source": [
    "# Lab #? - LAB TITLE HERE (LAB DATE)\n",
    "\n",
    "**Student name:** Liam Murray \\\n",
    "**Student number:** 87357539 \\\n",
    "**Partner:** PARTNER NAME HERE"
   ]
  },
  {
   "cell_type": "code",
   "execution_count": 2,
   "metadata": {},
   "outputs": [],
   "source": [
    "# Set up Python environment for notebook\n",
    "import matplotlib.pyplot as plt\n",
    "import numpy as np\n",
    "\n",
    "%matplotlib inline"
   ]
  },
  {
   "cell_type": "markdown",
   "metadata": {},
   "source": [
    "## Section 1: Familiarize\n",
    "In this stage we get familiar with the equipment, the analysis procedure, and to get a clear big-picture view of the experiment. This will help the rest of the experiment go more smoothly and you will be able to make informed decisions."
   ]
  },
  {
   "cell_type": "markdown",
   "metadata": {},
   "source": [
    "### Familiarize: Question\n",
    "This is the start of your big-picture investigation. Some questions to ask ourselves are: \n",
    "- What is the goal of the experiment?\n",
    "- What do we need to show to answer the question?\n",
    "- What’s the final quantity or model that we need to achieve? \n",
    "\n",
    "\n",
    "**🌊 Write Away Here!**"
   ]
  },
  {
   "cell_type": "markdown",
   "metadata": {},
   "source": [
    "### Familiarize: Discover\n",
    "Here we get familiar with what we actually need to do. Map out how to get from what we can do with our equipment to the goal. Figure out where the uncertainties come from so we can reduce them as much as possible. In this process we will develop a brief measurement strategy to start our investigation. Some questions to ask ourselves are: \n",
    "- How does the equipment work? \n",
    "- What equations are related to the experimental goal? \n",
    "- Can we write our experimental goal in terms of variables that we can measure? \n",
    "- Which variables do we control? \n",
    "- What are our sources of uncertainty? \n",
    "- How do we assign a number of these sources of uncertainty? (quantify by asking what PDF is attributed to that uncertainty)\n",
    "\n",
    "Often drawing a diagram of the equipment can be useful in figuring out what’s important and how it relates to the calculations we need to do in order to attain our experiment goal. \n",
    "\n",
    "**🌊 Write Away Here!**"
   ]
  },
  {
   "cell_type": "markdown",
   "metadata": {},
   "source": [
    "## Section 2: Investigate\n",
    "This is the body of our experiment. We will iterate the following until we run out of time. At the end of each iteration we will try to make sense of our data in order to make an informed decision on how best to improve. "
   ]
  },
  {
   "cell_type": "markdown",
   "metadata": {
    "vscode": {
     "languageId": "plaintext"
    }
   },
   "source": [
    "#### Investigate: Measure and Analyze\n",
    "Here we collect the data and run our analysis. Thanks to our spreadsheets, we can often do the analysis in real time and make on-the-fly decisions on how to best proceed. We will be mindful when we set up our spreadsheet to accommodate additional data. Some questions to ask ourselves when writing in our lab books are: \n",
    "- What did we actually do? \n",
    "- Did anything unexpected go wrong? \n",
    "- What happened? \n",
    "- Any qualitative observations on either our data or analysis? \n",
    "- How did the trends in our plots change as a result? \n",
    "- How did our uncertainty change as a result?\n",
    "\n",
    "**🌊 Write Away Here!**\n"
   ]
  },
  {
   "cell_type": "code",
   "execution_count": null,
   "metadata": {},
   "outputs": [],
   "source": [
    "#Import and reading the CSV file data\n",
    "datafile = \"tempdata.csv\"\n",
    "data = np.genfromtxt(datafile, delimiter=\",\", dtype=float)\n",
    "\n",
    "#Making Vectors from the data\n",
    "x_var = data[:, 0]  # Make a vector of all elements (:) in the first column (0)\n",
    "y_var = data[:, 1]  # Make a vector of all elements in the second column\n",
    "y_uncertainty = data[:, 2]  # Make a vector of all elements in the third column"
   ]
  },
  {
   "cell_type": "markdown",
   "metadata": {},
   "source": [
    "### Investigate: Compare and Summarize\n",
    "Once we have the data, completed the analysis and have a new result, we now need to think about what this means in the context of the goal. In doing so we should compare with our colleagues in order to get some context from the community. We will want to summarize the results in a sentence or two for later reference. Sometimes this step will lead to new questions and new investigations. Some questions to address while comparing and summarizing are: \n",
    "\n",
    "-Does our result make sense? \n",
    "-What does our result mean, physically?\n",
    "-Is our result of high quality? \n",
    "-What’s our answer to the research question? \n",
    "-Did we attain the experimental goal? \n",
    "-What is the evidence to support our answer? (Pretend there is skeptic you have to convince)\n",
    "-Are there any other interesting results that came out of our investigation? \n",
    "\n",
    "Remember to include units and uncertainties when reporting numerical values.\n",
    "\n",
    "**🌊 Write Away Here!**"
   ]
  },
  {
   "cell_type": "markdown",
   "metadata": {},
   "source": [
    "### Investigate: Plan to Improve\n",
    "If we have time, we will aim to do another round and improve our results. If not, then we should help those who come next by leaving some suggestions on how to make things better. We are the expert on our experiment, and we be most familiar on how to make it better. Try to keep things realistic, and attainable. Some things to think about when planning improvements: \n",
    "- How do we reduce our uncertainties? \n",
    "- How do we address any problems we’ve noted during our measurements stage? \n",
    "- Why will these improvements fix the problems or make things better? \n",
    "\n",
    "**If you run out of time then this is an excellent place to end your investigation.**\n",
    "\n",
    "**🌊 Write Away Here!**"
   ]
  },
  {
   "cell_type": "markdown",
   "metadata": {},
   "source": []
  }
 ],
 "metadata": {
  "kernelspec": {
   "display_name": "base",
   "language": "python",
   "name": "python3"
  },
  "language_info": {
   "codemirror_mode": {
    "name": "ipython",
    "version": 3
   },
   "file_extension": ".py",
   "mimetype": "text/x-python",
   "name": "python",
   "nbconvert_exporter": "python",
   "pygments_lexer": "ipython3",
   "version": "3.12.2"
  }
 },
 "nbformat": 4,
 "nbformat_minor": 2
}
